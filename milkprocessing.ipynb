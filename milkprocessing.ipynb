{
 "cells": [
  {
   "cell_type": "code",
   "execution_count": 167,
   "metadata": {},
   "outputs": [
    {
     "name": "stdout",
     "output_type": "stream",
     "text": [
      "Requirement already satisfied: imblearn in c:\\users\\asus\\anaconda3\\lib\\site-packages (0.0)\n",
      "Requirement already satisfied: imbalanced-learn in c:\\users\\asus\\anaconda3\\lib\\site-packages (from imblearn) (0.9.1)\n",
      "Requirement already satisfied: threadpoolctl>=2.0.0 in c:\\users\\asus\\anaconda3\\lib\\site-packages (from imbalanced-learn->imblearn) (2.2.0)\n",
      "Requirement already satisfied: numpy>=1.17.3 in c:\\users\\asus\\anaconda3\\lib\\site-packages (from imbalanced-learn->imblearn) (1.21.5)\n",
      "Requirement already satisfied: joblib>=1.0.0 in c:\\users\\asus\\anaconda3\\lib\\site-packages (from imbalanced-learn->imblearn) (1.1.0)\n",
      "Requirement already satisfied: scipy>=1.3.2 in c:\\users\\asus\\anaconda3\\lib\\site-packages (from imbalanced-learn->imblearn) (1.7.3)\n",
      "Requirement already satisfied: scikit-learn>=1.1.0 in c:\\users\\asus\\anaconda3\\lib\\site-packages (from imbalanced-learn->imblearn) (1.1.3)\n"
     ]
    },
    {
     "name": "stderr",
     "output_type": "stream",
     "text": [
      "ERROR: Could not find a version that satisfies the requirement statmodels (from versions: none)\n",
      "ERROR: No matching distribution found for statmodels\n"
     ]
    },
    {
     "name": "stdout",
     "output_type": "stream",
     "text": [
      "Requirement already satisfied: sklearn in c:\\users\\asus\\anaconda3\\lib\\site-packages (0.0.post1)\n"
     ]
    }
   ],
   "source": [
    "!pip install imblearn\n",
    "!pip install -U statmodels\n",
    "!pip install sklearn"
   ]
  },
  {
   "cell_type": "code",
   "execution_count": 206,
   "metadata": {},
   "outputs": [],
   "source": [
    "#import libraries\n",
    "import pandas as pd\n",
    "import numpy as np\n",
    "import seaborn as sns\n",
    "import scipy.stats as scs\n",
    "import joblib\n",
    "import yaml\n",
    "import matplotlib.pyplot as plt\n",
    "from imblearn.under_sampling import RandomUnderSampler\n",
    "from imblearn.over_sampling import RandomOverSampler, SMOTE\n",
    "from sklearn.preprocessing import LabelEncoder\n",
    "from sklearn.preprocessing import OneHotEncoder\n",
    "\n",
    "from sklearn.model_selection import train_test_split\n",
    "from sklearn.preprocessing import StandardScaler\n",
    "from sklearn import model_selection\n",
    "\n",
    "from sklearn.tree import DecisionTreeClassifier\n",
    "from sklearn.ensemble import RandomForestClassifier\n",
    "from sklearn.svm import SVC\n",
    "from sklearn.neighbors import KNeighborsClassifier\n",
    "from sklearn import tree\n",
    "from sklearn.metrics import confusion_matrix\n",
    "from sklearn.metrics import classification_report"
   ]
  },
  {
   "cell_type": "code",
   "execution_count": 169,
   "metadata": {},
   "outputs": [
    {
     "data": {
      "text/html": [
       "<div>\n",
       "<style scoped>\n",
       "    .dataframe tbody tr th:only-of-type {\n",
       "        vertical-align: middle;\n",
       "    }\n",
       "\n",
       "    .dataframe tbody tr th {\n",
       "        vertical-align: top;\n",
       "    }\n",
       "\n",
       "    .dataframe thead th {\n",
       "        text-align: right;\n",
       "    }\n",
       "</style>\n",
       "<table border=\"1\" class=\"dataframe\">\n",
       "  <thead>\n",
       "    <tr style=\"text-align: right;\">\n",
       "      <th></th>\n",
       "      <th>fixed acidity</th>\n",
       "      <th>volatile acidity</th>\n",
       "      <th>citric acid</th>\n",
       "      <th>residual sugar</th>\n",
       "      <th>chlorides</th>\n",
       "      <th>free sulfur dioxide</th>\n",
       "      <th>total sulfur dioxide</th>\n",
       "      <th>density</th>\n",
       "      <th>pH</th>\n",
       "      <th>sulphates</th>\n",
       "      <th>alcohol</th>\n",
       "      <th>quality</th>\n",
       "    </tr>\n",
       "  </thead>\n",
       "  <tbody>\n",
       "    <tr>\n",
       "      <th>0</th>\n",
       "      <td>7.4</td>\n",
       "      <td>0.700</td>\n",
       "      <td>0.00</td>\n",
       "      <td>1.9</td>\n",
       "      <td>0.076</td>\n",
       "      <td>11.0</td>\n",
       "      <td>34.0</td>\n",
       "      <td>0.99780</td>\n",
       "      <td>3.51</td>\n",
       "      <td>0.56</td>\n",
       "      <td>9.4</td>\n",
       "      <td>5</td>\n",
       "    </tr>\n",
       "    <tr>\n",
       "      <th>1</th>\n",
       "      <td>7.8</td>\n",
       "      <td>0.880</td>\n",
       "      <td>0.00</td>\n",
       "      <td>2.6</td>\n",
       "      <td>0.098</td>\n",
       "      <td>25.0</td>\n",
       "      <td>67.0</td>\n",
       "      <td>0.99680</td>\n",
       "      <td>3.20</td>\n",
       "      <td>0.68</td>\n",
       "      <td>9.8</td>\n",
       "      <td>5</td>\n",
       "    </tr>\n",
       "    <tr>\n",
       "      <th>2</th>\n",
       "      <td>7.8</td>\n",
       "      <td>0.760</td>\n",
       "      <td>0.04</td>\n",
       "      <td>2.3</td>\n",
       "      <td>0.092</td>\n",
       "      <td>15.0</td>\n",
       "      <td>54.0</td>\n",
       "      <td>0.99700</td>\n",
       "      <td>3.26</td>\n",
       "      <td>0.65</td>\n",
       "      <td>9.8</td>\n",
       "      <td>5</td>\n",
       "    </tr>\n",
       "    <tr>\n",
       "      <th>3</th>\n",
       "      <td>11.2</td>\n",
       "      <td>0.280</td>\n",
       "      <td>0.56</td>\n",
       "      <td>1.9</td>\n",
       "      <td>0.075</td>\n",
       "      <td>17.0</td>\n",
       "      <td>60.0</td>\n",
       "      <td>0.99800</td>\n",
       "      <td>3.16</td>\n",
       "      <td>0.58</td>\n",
       "      <td>9.8</td>\n",
       "      <td>6</td>\n",
       "    </tr>\n",
       "    <tr>\n",
       "      <th>4</th>\n",
       "      <td>7.4</td>\n",
       "      <td>0.700</td>\n",
       "      <td>0.00</td>\n",
       "      <td>1.9</td>\n",
       "      <td>0.076</td>\n",
       "      <td>11.0</td>\n",
       "      <td>34.0</td>\n",
       "      <td>0.99780</td>\n",
       "      <td>3.51</td>\n",
       "      <td>0.56</td>\n",
       "      <td>9.4</td>\n",
       "      <td>5</td>\n",
       "    </tr>\n",
       "    <tr>\n",
       "      <th>...</th>\n",
       "      <td>...</td>\n",
       "      <td>...</td>\n",
       "      <td>...</td>\n",
       "      <td>...</td>\n",
       "      <td>...</td>\n",
       "      <td>...</td>\n",
       "      <td>...</td>\n",
       "      <td>...</td>\n",
       "      <td>...</td>\n",
       "      <td>...</td>\n",
       "      <td>...</td>\n",
       "      <td>...</td>\n",
       "    </tr>\n",
       "    <tr>\n",
       "      <th>1594</th>\n",
       "      <td>6.2</td>\n",
       "      <td>0.600</td>\n",
       "      <td>0.08</td>\n",
       "      <td>2.0</td>\n",
       "      <td>0.090</td>\n",
       "      <td>32.0</td>\n",
       "      <td>44.0</td>\n",
       "      <td>0.99490</td>\n",
       "      <td>3.45</td>\n",
       "      <td>0.58</td>\n",
       "      <td>10.5</td>\n",
       "      <td>5</td>\n",
       "    </tr>\n",
       "    <tr>\n",
       "      <th>1595</th>\n",
       "      <td>5.9</td>\n",
       "      <td>0.550</td>\n",
       "      <td>0.10</td>\n",
       "      <td>2.2</td>\n",
       "      <td>0.062</td>\n",
       "      <td>39.0</td>\n",
       "      <td>51.0</td>\n",
       "      <td>0.99512</td>\n",
       "      <td>3.52</td>\n",
       "      <td>0.76</td>\n",
       "      <td>11.2</td>\n",
       "      <td>6</td>\n",
       "    </tr>\n",
       "    <tr>\n",
       "      <th>1596</th>\n",
       "      <td>6.3</td>\n",
       "      <td>0.510</td>\n",
       "      <td>0.13</td>\n",
       "      <td>2.3</td>\n",
       "      <td>0.076</td>\n",
       "      <td>29.0</td>\n",
       "      <td>40.0</td>\n",
       "      <td>0.99574</td>\n",
       "      <td>3.42</td>\n",
       "      <td>0.75</td>\n",
       "      <td>11.0</td>\n",
       "      <td>6</td>\n",
       "    </tr>\n",
       "    <tr>\n",
       "      <th>1597</th>\n",
       "      <td>5.9</td>\n",
       "      <td>0.645</td>\n",
       "      <td>0.12</td>\n",
       "      <td>2.0</td>\n",
       "      <td>0.075</td>\n",
       "      <td>32.0</td>\n",
       "      <td>44.0</td>\n",
       "      <td>0.99547</td>\n",
       "      <td>3.57</td>\n",
       "      <td>0.71</td>\n",
       "      <td>10.2</td>\n",
       "      <td>5</td>\n",
       "    </tr>\n",
       "    <tr>\n",
       "      <th>1598</th>\n",
       "      <td>6.0</td>\n",
       "      <td>0.310</td>\n",
       "      <td>0.47</td>\n",
       "      <td>3.6</td>\n",
       "      <td>0.067</td>\n",
       "      <td>18.0</td>\n",
       "      <td>42.0</td>\n",
       "      <td>0.99549</td>\n",
       "      <td>3.39</td>\n",
       "      <td>0.66</td>\n",
       "      <td>11.0</td>\n",
       "      <td>6</td>\n",
       "    </tr>\n",
       "  </tbody>\n",
       "</table>\n",
       "<p>1599 rows × 12 columns</p>\n",
       "</div>"
      ],
      "text/plain": [
       "      fixed acidity  volatile acidity  citric acid  residual sugar  chlorides  \\\n",
       "0               7.4             0.700         0.00             1.9      0.076   \n",
       "1               7.8             0.880         0.00             2.6      0.098   \n",
       "2               7.8             0.760         0.04             2.3      0.092   \n",
       "3              11.2             0.280         0.56             1.9      0.075   \n",
       "4               7.4             0.700         0.00             1.9      0.076   \n",
       "...             ...               ...          ...             ...        ...   \n",
       "1594            6.2             0.600         0.08             2.0      0.090   \n",
       "1595            5.9             0.550         0.10             2.2      0.062   \n",
       "1596            6.3             0.510         0.13             2.3      0.076   \n",
       "1597            5.9             0.645         0.12             2.0      0.075   \n",
       "1598            6.0             0.310         0.47             3.6      0.067   \n",
       "\n",
       "      free sulfur dioxide  total sulfur dioxide  density    pH  sulphates  \\\n",
       "0                    11.0                  34.0  0.99780  3.51       0.56   \n",
       "1                    25.0                  67.0  0.99680  3.20       0.68   \n",
       "2                    15.0                  54.0  0.99700  3.26       0.65   \n",
       "3                    17.0                  60.0  0.99800  3.16       0.58   \n",
       "4                    11.0                  34.0  0.99780  3.51       0.56   \n",
       "...                   ...                   ...      ...   ...        ...   \n",
       "1594                 32.0                  44.0  0.99490  3.45       0.58   \n",
       "1595                 39.0                  51.0  0.99512  3.52       0.76   \n",
       "1596                 29.0                  40.0  0.99574  3.42       0.75   \n",
       "1597                 32.0                  44.0  0.99547  3.57       0.71   \n",
       "1598                 18.0                  42.0  0.99549  3.39       0.66   \n",
       "\n",
       "      alcohol  quality  \n",
       "0         9.4        5  \n",
       "1         9.8        5  \n",
       "2         9.8        5  \n",
       "3         9.8        6  \n",
       "4         9.4        5  \n",
       "...       ...      ...  \n",
       "1594     10.5        5  \n",
       "1595     11.2        6  \n",
       "1596     11.0        6  \n",
       "1597     10.2        5  \n",
       "1598     11.0        6  \n",
       "\n",
       "[1599 rows x 12 columns]"
      ]
     },
     "execution_count": 169,
     "metadata": {},
     "output_type": "execute_result"
    }
   ],
   "source": [
    "#Load dataset\n",
    "df = pd.read_csv('winequality-red.csv')\n",
    "df"
   ]
  },
  {
   "cell_type": "code",
   "execution_count": 170,
   "metadata": {},
   "outputs": [
    {
     "data": {
      "text/plain": [
       "(1599, 12)"
      ]
     },
     "execution_count": 170,
     "metadata": {},
     "output_type": "execute_result"
    }
   ],
   "source": [
    "# data dimension\n",
    "df.shape"
   ]
  },
  {
   "cell_type": "code",
   "execution_count": 171,
   "metadata": {},
   "outputs": [
    {
     "name": "stdout",
     "output_type": "stream",
     "text": [
      "<class 'pandas.core.frame.DataFrame'>\n",
      "RangeIndex: 1599 entries, 0 to 1598\n",
      "Data columns (total 12 columns):\n",
      " #   Column                Non-Null Count  Dtype  \n",
      "---  ------                --------------  -----  \n",
      " 0   fixed acidity         1599 non-null   float64\n",
      " 1   volatile acidity      1599 non-null   float64\n",
      " 2   citric acid           1599 non-null   float64\n",
      " 3   residual sugar        1599 non-null   float64\n",
      " 4   chlorides             1599 non-null   float64\n",
      " 5   free sulfur dioxide   1599 non-null   float64\n",
      " 6   total sulfur dioxide  1599 non-null   float64\n",
      " 7   density               1599 non-null   float64\n",
      " 8   pH                    1599 non-null   float64\n",
      " 9   sulphates             1599 non-null   float64\n",
      " 10  alcohol               1599 non-null   float64\n",
      " 11  quality               1599 non-null   int64  \n",
      "dtypes: float64(11), int64(1)\n",
      "memory usage: 150.0 KB\n"
     ]
    }
   ],
   "source": [
    "df.info()"
   ]
  },
  {
   "cell_type": "markdown",
   "metadata": {},
   "source": [
    "there are no null value"
   ]
  },
  {
   "cell_type": "code",
   "execution_count": 172,
   "metadata": {},
   "outputs": [
    {
     "data": {
      "text/html": [
       "<div>\n",
       "<style scoped>\n",
       "    .dataframe tbody tr th:only-of-type {\n",
       "        vertical-align: middle;\n",
       "    }\n",
       "\n",
       "    .dataframe tbody tr th {\n",
       "        vertical-align: top;\n",
       "    }\n",
       "\n",
       "    .dataframe thead th {\n",
       "        text-align: right;\n",
       "    }\n",
       "</style>\n",
       "<table border=\"1\" class=\"dataframe\">\n",
       "  <thead>\n",
       "    <tr style=\"text-align: right;\">\n",
       "      <th></th>\n",
       "      <th>fixed acidity</th>\n",
       "      <th>volatile acidity</th>\n",
       "      <th>citric acid</th>\n",
       "      <th>residual sugar</th>\n",
       "      <th>chlorides</th>\n",
       "      <th>free sulfur dioxide</th>\n",
       "      <th>total sulfur dioxide</th>\n",
       "      <th>density</th>\n",
       "      <th>pH</th>\n",
       "      <th>sulphates</th>\n",
       "      <th>alcohol</th>\n",
       "      <th>quality</th>\n",
       "    </tr>\n",
       "  </thead>\n",
       "  <tbody>\n",
       "    <tr>\n",
       "      <th>count</th>\n",
       "      <td>1599.000000</td>\n",
       "      <td>1599.000000</td>\n",
       "      <td>1599.000000</td>\n",
       "      <td>1599.000000</td>\n",
       "      <td>1599.000000</td>\n",
       "      <td>1599.000000</td>\n",
       "      <td>1599.000000</td>\n",
       "      <td>1599.000000</td>\n",
       "      <td>1599.000000</td>\n",
       "      <td>1599.000000</td>\n",
       "      <td>1599.000000</td>\n",
       "      <td>1599.000000</td>\n",
       "    </tr>\n",
       "    <tr>\n",
       "      <th>mean</th>\n",
       "      <td>8.319637</td>\n",
       "      <td>0.527821</td>\n",
       "      <td>0.270976</td>\n",
       "      <td>2.538806</td>\n",
       "      <td>0.087467</td>\n",
       "      <td>15.874922</td>\n",
       "      <td>46.467792</td>\n",
       "      <td>0.996747</td>\n",
       "      <td>3.311113</td>\n",
       "      <td>0.658149</td>\n",
       "      <td>10.422983</td>\n",
       "      <td>5.636023</td>\n",
       "    </tr>\n",
       "    <tr>\n",
       "      <th>std</th>\n",
       "      <td>1.741096</td>\n",
       "      <td>0.179060</td>\n",
       "      <td>0.194801</td>\n",
       "      <td>1.409928</td>\n",
       "      <td>0.047065</td>\n",
       "      <td>10.460157</td>\n",
       "      <td>32.895324</td>\n",
       "      <td>0.001887</td>\n",
       "      <td>0.154386</td>\n",
       "      <td>0.169507</td>\n",
       "      <td>1.065668</td>\n",
       "      <td>0.807569</td>\n",
       "    </tr>\n",
       "    <tr>\n",
       "      <th>min</th>\n",
       "      <td>4.600000</td>\n",
       "      <td>0.120000</td>\n",
       "      <td>0.000000</td>\n",
       "      <td>0.900000</td>\n",
       "      <td>0.012000</td>\n",
       "      <td>1.000000</td>\n",
       "      <td>6.000000</td>\n",
       "      <td>0.990070</td>\n",
       "      <td>2.740000</td>\n",
       "      <td>0.330000</td>\n",
       "      <td>8.400000</td>\n",
       "      <td>3.000000</td>\n",
       "    </tr>\n",
       "    <tr>\n",
       "      <th>25%</th>\n",
       "      <td>7.100000</td>\n",
       "      <td>0.390000</td>\n",
       "      <td>0.090000</td>\n",
       "      <td>1.900000</td>\n",
       "      <td>0.070000</td>\n",
       "      <td>7.000000</td>\n",
       "      <td>22.000000</td>\n",
       "      <td>0.995600</td>\n",
       "      <td>3.210000</td>\n",
       "      <td>0.550000</td>\n",
       "      <td>9.500000</td>\n",
       "      <td>5.000000</td>\n",
       "    </tr>\n",
       "    <tr>\n",
       "      <th>50%</th>\n",
       "      <td>7.900000</td>\n",
       "      <td>0.520000</td>\n",
       "      <td>0.260000</td>\n",
       "      <td>2.200000</td>\n",
       "      <td>0.079000</td>\n",
       "      <td>14.000000</td>\n",
       "      <td>38.000000</td>\n",
       "      <td>0.996750</td>\n",
       "      <td>3.310000</td>\n",
       "      <td>0.620000</td>\n",
       "      <td>10.200000</td>\n",
       "      <td>6.000000</td>\n",
       "    </tr>\n",
       "    <tr>\n",
       "      <th>75%</th>\n",
       "      <td>9.200000</td>\n",
       "      <td>0.640000</td>\n",
       "      <td>0.420000</td>\n",
       "      <td>2.600000</td>\n",
       "      <td>0.090000</td>\n",
       "      <td>21.000000</td>\n",
       "      <td>62.000000</td>\n",
       "      <td>0.997835</td>\n",
       "      <td>3.400000</td>\n",
       "      <td>0.730000</td>\n",
       "      <td>11.100000</td>\n",
       "      <td>6.000000</td>\n",
       "    </tr>\n",
       "    <tr>\n",
       "      <th>max</th>\n",
       "      <td>15.900000</td>\n",
       "      <td>1.580000</td>\n",
       "      <td>1.000000</td>\n",
       "      <td>15.500000</td>\n",
       "      <td>0.611000</td>\n",
       "      <td>72.000000</td>\n",
       "      <td>289.000000</td>\n",
       "      <td>1.003690</td>\n",
       "      <td>4.010000</td>\n",
       "      <td>2.000000</td>\n",
       "      <td>14.900000</td>\n",
       "      <td>8.000000</td>\n",
       "    </tr>\n",
       "  </tbody>\n",
       "</table>\n",
       "</div>"
      ],
      "text/plain": [
       "       fixed acidity  volatile acidity  citric acid  residual sugar  \\\n",
       "count    1599.000000       1599.000000  1599.000000     1599.000000   \n",
       "mean        8.319637          0.527821     0.270976        2.538806   \n",
       "std         1.741096          0.179060     0.194801        1.409928   \n",
       "min         4.600000          0.120000     0.000000        0.900000   \n",
       "25%         7.100000          0.390000     0.090000        1.900000   \n",
       "50%         7.900000          0.520000     0.260000        2.200000   \n",
       "75%         9.200000          0.640000     0.420000        2.600000   \n",
       "max        15.900000          1.580000     1.000000       15.500000   \n",
       "\n",
       "         chlorides  free sulfur dioxide  total sulfur dioxide      density  \\\n",
       "count  1599.000000          1599.000000           1599.000000  1599.000000   \n",
       "mean      0.087467            15.874922             46.467792     0.996747   \n",
       "std       0.047065            10.460157             32.895324     0.001887   \n",
       "min       0.012000             1.000000              6.000000     0.990070   \n",
       "25%       0.070000             7.000000             22.000000     0.995600   \n",
       "50%       0.079000            14.000000             38.000000     0.996750   \n",
       "75%       0.090000            21.000000             62.000000     0.997835   \n",
       "max       0.611000            72.000000            289.000000     1.003690   \n",
       "\n",
       "                pH    sulphates      alcohol      quality  \n",
       "count  1599.000000  1599.000000  1599.000000  1599.000000  \n",
       "mean      3.311113     0.658149    10.422983     5.636023  \n",
       "std       0.154386     0.169507     1.065668     0.807569  \n",
       "min       2.740000     0.330000     8.400000     3.000000  \n",
       "25%       3.210000     0.550000     9.500000     5.000000  \n",
       "50%       3.310000     0.620000    10.200000     6.000000  \n",
       "75%       3.400000     0.730000    11.100000     6.000000  \n",
       "max       4.010000     2.000000    14.900000     8.000000  "
      ]
     },
     "execution_count": 172,
     "metadata": {},
     "output_type": "execute_result"
    }
   ],
   "source": [
    "# statistical data describtion\n",
    "df.describe()"
   ]
  },
  {
   "cell_type": "code",
   "execution_count": 173,
   "metadata": {},
   "outputs": [
    {
     "name": "stdout",
     "output_type": "stream",
     "text": [
      "(1599, 12)\n"
     ]
    },
    {
     "data": {
      "text/html": [
       "<div>\n",
       "<style scoped>\n",
       "    .dataframe tbody tr th:only-of-type {\n",
       "        vertical-align: middle;\n",
       "    }\n",
       "\n",
       "    .dataframe tbody tr th {\n",
       "        vertical-align: top;\n",
       "    }\n",
       "\n",
       "    .dataframe thead th {\n",
       "        text-align: right;\n",
       "    }\n",
       "</style>\n",
       "<table border=\"1\" class=\"dataframe\">\n",
       "  <thead>\n",
       "    <tr style=\"text-align: right;\">\n",
       "      <th></th>\n",
       "      <th>fixed acidity</th>\n",
       "      <th>volatile acidity</th>\n",
       "      <th>citric acid</th>\n",
       "      <th>residual sugar</th>\n",
       "      <th>chlorides</th>\n",
       "      <th>free sulfur dioxide</th>\n",
       "      <th>total sulfur dioxide</th>\n",
       "      <th>density</th>\n",
       "      <th>pH</th>\n",
       "      <th>sulphates</th>\n",
       "      <th>alcohol</th>\n",
       "      <th>quality</th>\n",
       "    </tr>\n",
       "  </thead>\n",
       "  <tbody>\n",
       "    <tr>\n",
       "      <th>0</th>\n",
       "      <td>7.4</td>\n",
       "      <td>0.700</td>\n",
       "      <td>0.00</td>\n",
       "      <td>1.9</td>\n",
       "      <td>0.076</td>\n",
       "      <td>11.0</td>\n",
       "      <td>34.0</td>\n",
       "      <td>0.99780</td>\n",
       "      <td>3.51</td>\n",
       "      <td>0.56</td>\n",
       "      <td>9.4</td>\n",
       "      <td>5</td>\n",
       "    </tr>\n",
       "    <tr>\n",
       "      <th>1</th>\n",
       "      <td>7.8</td>\n",
       "      <td>0.880</td>\n",
       "      <td>0.00</td>\n",
       "      <td>2.6</td>\n",
       "      <td>0.098</td>\n",
       "      <td>25.0</td>\n",
       "      <td>67.0</td>\n",
       "      <td>0.99680</td>\n",
       "      <td>3.20</td>\n",
       "      <td>0.68</td>\n",
       "      <td>9.8</td>\n",
       "      <td>5</td>\n",
       "    </tr>\n",
       "    <tr>\n",
       "      <th>2</th>\n",
       "      <td>7.8</td>\n",
       "      <td>0.760</td>\n",
       "      <td>0.04</td>\n",
       "      <td>2.3</td>\n",
       "      <td>0.092</td>\n",
       "      <td>15.0</td>\n",
       "      <td>54.0</td>\n",
       "      <td>0.99700</td>\n",
       "      <td>3.26</td>\n",
       "      <td>0.65</td>\n",
       "      <td>9.8</td>\n",
       "      <td>5</td>\n",
       "    </tr>\n",
       "    <tr>\n",
       "      <th>3</th>\n",
       "      <td>11.2</td>\n",
       "      <td>0.280</td>\n",
       "      <td>0.56</td>\n",
       "      <td>1.9</td>\n",
       "      <td>0.075</td>\n",
       "      <td>17.0</td>\n",
       "      <td>60.0</td>\n",
       "      <td>0.99800</td>\n",
       "      <td>3.16</td>\n",
       "      <td>0.58</td>\n",
       "      <td>9.8</td>\n",
       "      <td>6</td>\n",
       "    </tr>\n",
       "    <tr>\n",
       "      <th>4</th>\n",
       "      <td>7.4</td>\n",
       "      <td>0.700</td>\n",
       "      <td>0.00</td>\n",
       "      <td>1.9</td>\n",
       "      <td>0.076</td>\n",
       "      <td>11.0</td>\n",
       "      <td>34.0</td>\n",
       "      <td>0.99780</td>\n",
       "      <td>3.51</td>\n",
       "      <td>0.56</td>\n",
       "      <td>9.4</td>\n",
       "      <td>5</td>\n",
       "    </tr>\n",
       "    <tr>\n",
       "      <th>...</th>\n",
       "      <td>...</td>\n",
       "      <td>...</td>\n",
       "      <td>...</td>\n",
       "      <td>...</td>\n",
       "      <td>...</td>\n",
       "      <td>...</td>\n",
       "      <td>...</td>\n",
       "      <td>...</td>\n",
       "      <td>...</td>\n",
       "      <td>...</td>\n",
       "      <td>...</td>\n",
       "      <td>...</td>\n",
       "    </tr>\n",
       "    <tr>\n",
       "      <th>1594</th>\n",
       "      <td>6.2</td>\n",
       "      <td>0.600</td>\n",
       "      <td>0.08</td>\n",
       "      <td>2.0</td>\n",
       "      <td>0.090</td>\n",
       "      <td>32.0</td>\n",
       "      <td>44.0</td>\n",
       "      <td>0.99490</td>\n",
       "      <td>3.45</td>\n",
       "      <td>0.58</td>\n",
       "      <td>10.5</td>\n",
       "      <td>5</td>\n",
       "    </tr>\n",
       "    <tr>\n",
       "      <th>1595</th>\n",
       "      <td>5.9</td>\n",
       "      <td>0.550</td>\n",
       "      <td>0.10</td>\n",
       "      <td>2.2</td>\n",
       "      <td>0.062</td>\n",
       "      <td>39.0</td>\n",
       "      <td>51.0</td>\n",
       "      <td>0.99512</td>\n",
       "      <td>3.52</td>\n",
       "      <td>0.76</td>\n",
       "      <td>11.2</td>\n",
       "      <td>6</td>\n",
       "    </tr>\n",
       "    <tr>\n",
       "      <th>1596</th>\n",
       "      <td>6.3</td>\n",
       "      <td>0.510</td>\n",
       "      <td>0.13</td>\n",
       "      <td>2.3</td>\n",
       "      <td>0.076</td>\n",
       "      <td>29.0</td>\n",
       "      <td>40.0</td>\n",
       "      <td>0.99574</td>\n",
       "      <td>3.42</td>\n",
       "      <td>0.75</td>\n",
       "      <td>11.0</td>\n",
       "      <td>6</td>\n",
       "    </tr>\n",
       "    <tr>\n",
       "      <th>1597</th>\n",
       "      <td>5.9</td>\n",
       "      <td>0.645</td>\n",
       "      <td>0.12</td>\n",
       "      <td>2.0</td>\n",
       "      <td>0.075</td>\n",
       "      <td>32.0</td>\n",
       "      <td>44.0</td>\n",
       "      <td>0.99547</td>\n",
       "      <td>3.57</td>\n",
       "      <td>0.71</td>\n",
       "      <td>10.2</td>\n",
       "      <td>5</td>\n",
       "    </tr>\n",
       "    <tr>\n",
       "      <th>1598</th>\n",
       "      <td>6.0</td>\n",
       "      <td>0.310</td>\n",
       "      <td>0.47</td>\n",
       "      <td>3.6</td>\n",
       "      <td>0.067</td>\n",
       "      <td>18.0</td>\n",
       "      <td>42.0</td>\n",
       "      <td>0.99549</td>\n",
       "      <td>3.39</td>\n",
       "      <td>0.66</td>\n",
       "      <td>11.0</td>\n",
       "      <td>6</td>\n",
       "    </tr>\n",
       "  </tbody>\n",
       "</table>\n",
       "<p>1599 rows × 12 columns</p>\n",
       "</div>"
      ],
      "text/plain": [
       "      fixed acidity  volatile acidity  citric acid  residual sugar  chlorides  \\\n",
       "0               7.4             0.700         0.00             1.9      0.076   \n",
       "1               7.8             0.880         0.00             2.6      0.098   \n",
       "2               7.8             0.760         0.04             2.3      0.092   \n",
       "3              11.2             0.280         0.56             1.9      0.075   \n",
       "4               7.4             0.700         0.00             1.9      0.076   \n",
       "...             ...               ...          ...             ...        ...   \n",
       "1594            6.2             0.600         0.08             2.0      0.090   \n",
       "1595            5.9             0.550         0.10             2.2      0.062   \n",
       "1596            6.3             0.510         0.13             2.3      0.076   \n",
       "1597            5.9             0.645         0.12             2.0      0.075   \n",
       "1598            6.0             0.310         0.47             3.6      0.067   \n",
       "\n",
       "      free sulfur dioxide  total sulfur dioxide  density    pH  sulphates  \\\n",
       "0                    11.0                  34.0  0.99780  3.51       0.56   \n",
       "1                    25.0                  67.0  0.99680  3.20       0.68   \n",
       "2                    15.0                  54.0  0.99700  3.26       0.65   \n",
       "3                    17.0                  60.0  0.99800  3.16       0.58   \n",
       "4                    11.0                  34.0  0.99780  3.51       0.56   \n",
       "...                   ...                   ...      ...   ...        ...   \n",
       "1594                 32.0                  44.0  0.99490  3.45       0.58   \n",
       "1595                 39.0                  51.0  0.99512  3.52       0.76   \n",
       "1596                 29.0                  40.0  0.99574  3.42       0.75   \n",
       "1597                 32.0                  44.0  0.99547  3.57       0.71   \n",
       "1598                 18.0                  42.0  0.99549  3.39       0.66   \n",
       "\n",
       "      alcohol  quality  \n",
       "0         9.4        5  \n",
       "1         9.8        5  \n",
       "2         9.8        5  \n",
       "3         9.8        6  \n",
       "4         9.4        5  \n",
       "...       ...      ...  \n",
       "1594     10.5        5  \n",
       "1595     11.2        6  \n",
       "1596     11.0        6  \n",
       "1597     10.2        5  \n",
       "1598     11.0        6  \n",
       "\n",
       "[1599 rows x 12 columns]"
      ]
     },
     "execution_count": 173,
     "metadata": {},
     "output_type": "execute_result"
    }
   ],
   "source": [
    "new_df = df.replace(\"medium\", \"high\")\n",
    "print(new_df.shape)\n",
    "new_df"
   ]
  },
  {
   "cell_type": "code",
   "execution_count": 174,
   "metadata": {},
   "outputs": [
    {
     "data": {
      "text/plain": [
       "0       False\n",
       "1       False\n",
       "2       False\n",
       "3       False\n",
       "4        True\n",
       "        ...  \n",
       "1594    False\n",
       "1595    False\n",
       "1596     True\n",
       "1597    False\n",
       "1598    False\n",
       "Length: 1599, dtype: bool"
      ]
     },
     "execution_count": 174,
     "metadata": {},
     "output_type": "execute_result"
    }
   ],
   "source": [
    "#duplicate data checking\n",
    "duplicate_status = new_df.duplicated()\n",
    "duplicate_status"
   ]
  },
  {
   "cell_type": "code",
   "execution_count": 175,
   "metadata": {},
   "outputs": [
    {
     "data": {
      "text/plain": [
       "240"
      ]
     },
     "execution_count": 175,
     "metadata": {},
     "output_type": "execute_result"
    }
   ],
   "source": [
    "duplicate_status.sum()"
   ]
  },
  {
   "cell_type": "markdown",
   "metadata": {},
   "source": [
    "there are 976 data duplicate"
   ]
  },
  {
   "cell_type": "code",
   "execution_count": 176,
   "metadata": {},
   "outputs": [
    {
     "data": {
      "text/plain": [
       "(1359, 12)"
      ]
     },
     "execution_count": 176,
     "metadata": {},
     "output_type": "execute_result"
    }
   ],
   "source": [
    "#handling duplicate\n",
    "data = new_df.drop_duplicates()\n",
    "data.shape"
   ]
  },
  {
   "cell_type": "code",
   "execution_count": 177,
   "metadata": {},
   "outputs": [
    {
     "data": {
      "text/plain": [
       "fixed acidity           0.941041\n",
       "volatile acidity        0.729279\n",
       "citric acid             0.312726\n",
       "residual sugar          4.548153\n",
       "chlorides               5.502487\n",
       "free sulfur dioxide     1.226579\n",
       "total sulfur dioxide    1.540368\n",
       "density                 0.044778\n",
       "pH                      0.232032\n",
       "sulphates               2.406505\n",
       "alcohol                 0.859841\n",
       "quality                 0.192407\n",
       "dtype: float64"
      ]
     },
     "execution_count": 177,
     "metadata": {},
     "output_type": "execute_result"
    }
   ],
   "source": [
    "# skewness checking\n",
    "data.skew(numeric_only = True)"
   ]
  },
  {
   "cell_type": "markdown",
   "metadata": {},
   "source": [
    "pH, temperature, fat and colour cooumn > +- 0.5, imputated by median and the rest with mean"
   ]
  },
  {
   "cell_type": "code",
   "execution_count": 178,
   "metadata": {},
   "outputs": [
    {
     "name": "stderr",
     "output_type": "stream",
     "text": [
      "c:\\Users\\ASUS\\anaconda3\\lib\\site-packages\\seaborn\\distributions.py:2619: FutureWarning: `distplot` is a deprecated function and will be removed in a future version. Please adapt your code to use either `displot` (a figure-level function with similar flexibility) or `histplot` (an axes-level function for histograms).\n",
      "  warnings.warn(msg, FutureWarning)\n"
     ]
    },
    {
     "data": {
      "image/png": "[encoded data removed]",
      "text/plain": [
       "<Figure size 432x288 with 1 Axes>"
      ]
     },
     "metadata": {
      "needs_background": "light"
     },
     "output_type": "display_data"
    }
   ],
   "source": [
    "# distribution plot  of ph \n",
    "sns.distplot(data['pH'])\n",
    "plt.show()\n"
   ]
  },
  {
   "cell_type": "code",
   "execution_count": 179,
   "metadata": {},
   "outputs": [
    {
     "data": {
      "image/png": "[encoded data removed]",
      "text/plain": [
       "<Figure size 720x576 with 2 Axes>"
      ]
     },
     "metadata": {
      "needs_background": "light"
     },
     "output_type": "display_data"
    }
   ],
   "source": [
    "# pearson correlation\n",
    "plt.figure(figsize=(10,8))\n",
    "sns.heatmap(data.corr(),annot=True)\n",
    "plt.show()"
   ]
  },
  {
   "cell_type": "markdown",
   "metadata": {},
   "source": [
    "Turbidity and odor are correlated enough with correlation value of 0.38\n"
   ]
  },
  {
   "cell_type": "code",
   "execution_count": 180,
   "metadata": {},
   "outputs": [
    {
     "data": {
      "text/plain": [
       "fixed acidity           0\n",
       "volatile acidity        0\n",
       "citric acid             0\n",
       "residual sugar          0\n",
       "chlorides               0\n",
       "free sulfur dioxide     0\n",
       "total sulfur dioxide    0\n",
       "density                 0\n",
       "pH                      0\n",
       "sulphates               0\n",
       "alcohol                 0\n",
       "quality                 0\n",
       "dtype: int64"
      ]
     },
     "execution_count": 180,
     "metadata": {},
     "output_type": "execute_result"
    }
   ],
   "source": [
    "# missing value checking\n",
    "data.isnull().sum()"
   ]
  },
  {
   "cell_type": "code",
   "execution_count": 181,
   "metadata": {},
   "outputs": [
    {
     "ename": "SyntaxError",
     "evalue": "invalid syntax (2645825952.py, line 3)",
     "output_type": "error",
     "traceback": [
      "\u001b[1;36m  Input \u001b[1;32mIn [181]\u001b[1;36m\u001b[0m\n\u001b[1;33m    plt.show()\u001b[0m\n\u001b[1;37m    ^\u001b[0m\n\u001b[1;31mSyntaxError\u001b[0m\u001b[1;31m:\u001b[0m invalid syntax\n"
     ]
    }
   ],
   "source": [
    "# data proportion for grade\n",
    "plt.figure(figsize=(12,lt.xticks(rotation=45)\n",
    "plt.show()"
   ]
  },
  {
   "cell_type": "code",
   "execution_count": null,
   "metadata": {},
   "outputs": [
    {
     "data": {
      "image/png": "[encoded data removed]",
      "text/plain": [
       "<Figure size 1080x432 with 1 Axes>"
      ]
     },
     "metadata": {
      "needs_background": "light"
     },
     "output_type": "display_data"
    }
   ],
   "source": [
    "# imbalance check\n",
    "data.boxplot(figsize = (15,6))\n",
    "plt.show()"
   ]
  },
  {
   "cell_type": "code",
   "execution_count": null,
   "metadata": {},
   "outputs": [
    {
     "data": {
      "text/html": [
       "<div>\n",
       "<style scoped>\n",
       "    .dataframe tbody tr th:only-of-type {\n",
       "        vertical-align: middle;\n",
       "    }\n",
       "\n",
       "    .dataframe tbody tr th {\n",
       "        vertical-align: top;\n",
       "    }\n",
       "\n",
       "    .dataframe thead th {\n",
       "        text-align: right;\n",
       "    }\n",
       "</style>\n",
       "<table border=\"1\" class=\"dataframe\">\n",
       "  <thead>\n",
       "    <tr style=\"text-align: right;\">\n",
       "      <th></th>\n",
       "      <th>pH</th>\n",
       "      <th>Temprature</th>\n",
       "      <th>Taste</th>\n",
       "      <th>Odor</th>\n",
       "      <th>Fat</th>\n",
       "      <th>Turbidity</th>\n",
       "      <th>Colour</th>\n",
       "      <th>Grade</th>\n",
       "    </tr>\n",
       "  </thead>\n",
       "  <tbody>\n",
       "    <tr>\n",
       "      <th>0</th>\n",
       "      <td>6.6</td>\n",
       "      <td>35</td>\n",
       "      <td>1</td>\n",
       "      <td>0</td>\n",
       "      <td>1</td>\n",
       "      <td>0</td>\n",
       "      <td>254</td>\n",
       "      <td>0</td>\n",
       "    </tr>\n",
       "    <tr>\n",
       "      <th>1</th>\n",
       "      <td>6.6</td>\n",
       "      <td>36</td>\n",
       "      <td>0</td>\n",
       "      <td>1</td>\n",
       "      <td>0</td>\n",
       "      <td>1</td>\n",
       "      <td>253</td>\n",
       "      <td>0</td>\n",
       "    </tr>\n",
       "    <tr>\n",
       "      <th>2</th>\n",
       "      <td>8.5</td>\n",
       "      <td>70</td>\n",
       "      <td>1</td>\n",
       "      <td>1</td>\n",
       "      <td>1</td>\n",
       "      <td>1</td>\n",
       "      <td>246</td>\n",
       "      <td>1</td>\n",
       "    </tr>\n",
       "    <tr>\n",
       "      <th>3</th>\n",
       "      <td>9.5</td>\n",
       "      <td>34</td>\n",
       "      <td>1</td>\n",
       "      <td>1</td>\n",
       "      <td>0</td>\n",
       "      <td>1</td>\n",
       "      <td>255</td>\n",
       "      <td>1</td>\n",
       "    </tr>\n",
       "    <tr>\n",
       "      <th>4</th>\n",
       "      <td>6.6</td>\n",
       "      <td>37</td>\n",
       "      <td>0</td>\n",
       "      <td>0</td>\n",
       "      <td>0</td>\n",
       "      <td>0</td>\n",
       "      <td>255</td>\n",
       "      <td>0</td>\n",
       "    </tr>\n",
       "  </tbody>\n",
       "</table>\n",
       "</div>"
      ],
      "text/plain": [
       "    pH  Temprature  Taste  Odor  Fat   Turbidity  Colour  Grade\n",
       "0  6.6          35      1     0     1          0     254      0\n",
       "1  6.6          36      0     1     0          1     253      0\n",
       "2  8.5          70      1     1     1          1     246      1\n",
       "3  9.5          34      1     1     0          1     255      1\n",
       "4  6.6          37      0     0     0          0     255      0"
      ]
     },
     "execution_count": 102,
     "metadata": {},
     "output_type": "execute_result"
    }
   ],
   "source": [
    "#labelling data\n",
    "labelencoder = LabelEncoder()\n",
    "new_data = data.copy()\n",
    "new_data[\"Grade\"] = labelencoder.fit_transform(new_data[\"Grade\"])\n",
    "\n",
    "new_data.head()"
   ]
  },
  {
   "cell_type": "code",
   "execution_count": null,
   "metadata": {},
   "outputs": [
    {
     "data": {
      "text/plain": [
       "pH            float64\n",
       "Temprature      int64\n",
       "Taste           int64\n",
       "Odor            int64\n",
       "Fat             int64\n",
       "Turbidity       int64\n",
       "Colour          int64\n",
       "Grade           int32\n",
       "dtype: object"
      ]
     },
     "execution_count": 103,
     "metadata": {},
     "output_type": "execute_result"
    }
   ],
   "source": [
    "new_data.dtypes"
   ]
  },
  {
   "cell_type": "code",
   "execution_count": null,
   "metadata": {},
   "outputs": [],
   "source": [
    "# define x and y\n",
    "x = new_data.drop(columns='Grade')\n",
    "y = new_data['Grade']\n"
   ]
  },
  {
   "cell_type": "code",
   "execution_count": null,
   "metadata": {},
   "outputs": [
    {
     "data": {
      "text/plain": [
       "0    57\n",
       "1    57\n",
       "Name: Grade, dtype: int64"
      ]
     },
     "execution_count": 105,
     "metadata": {},
     "output_type": "execute_result"
    }
   ],
   "source": [
    "#oversampling\n",
    "from imblearn.over_sampling import SMOTE\n",
    "sample = SMOTE(random_state=0)\n",
    "x,y = sample.fit_resample(x,y)\n",
    "y.value_counts()\n"
   ]
  },
  {
   "cell_type": "code",
   "execution_count": null,
   "metadata": {},
   "outputs": [],
   "source": [
    "# train dan test data split\n",
    "x_train, x_test, y_train, y_test = model_selection.train_test_split(x, y, test_size=0.2, random_state=7)"
   ]
  },
  {
   "cell_type": "code",
   "execution_count": null,
   "metadata": {},
   "outputs": [
    {
     "data": {
      "text/plain": [
       "array([[ 0.14763233,  0.01883109,  1.15470054,  1.39121669,  0.90553851,\n",
       "        -0.79056942, -1.46368289],\n",
       "       [ 1.44915219,  1.0898493 , -0.8660254 , -0.71879529, -1.10431526,\n",
       "         1.26491106,  0.76366064],\n",
       "       [-2.94092011, -0.51667802,  1.15470054, -0.71879529, -1.10431526,\n",
       "        -0.79056942,  0.76366064],\n",
       "       [-0.01492306, -0.19537255,  1.15470054, -0.71879529,  0.90553851,\n",
       "         1.26491106, -0.35001113],\n",
       "       [ 1.61063086,  1.0898493 , -0.8660254 ,  1.39121669,  0.90553851,\n",
       "         1.26491106,  0.76366064],\n",
       "       [-0.01492306, -0.51667802,  1.15470054, -0.71879529,  0.90553851,\n",
       "         1.26491106,  0.76366064],\n",
       "       [-0.09620075, -0.73088166,  1.15470054, -0.71879529, -1.10431526,\n",
       "        -0.79056942,  0.76366064],\n",
       "       [ 1.52935317,  2.69637662, -0.8660254 , -0.71879529, -1.10431526,\n",
       "        -0.79056942, -1.24094854],\n",
       "       [-0.82770002,  0.5543402 , -0.8660254 ,  1.39121669,  0.90553851,\n",
       "         1.26491106,  0.76366064],\n",
       "       [ 0.06635464, -0.73088166,  1.15470054, -0.71879529,  0.90553851,\n",
       "        -0.79056942,  0.76366064],\n",
       "       [ 0.14763233, -0.9450853 , -0.8660254 ,  1.39121669,  0.90553851,\n",
       "        -0.79056942,  0.31819193],\n",
       "       [ 1.93574165, -0.19537255,  1.15470054, -0.71879529,  0.90553851,\n",
       "         1.26491106, -0.35001113],\n",
       "       [-0.09620075,  1.0898493 ,  1.15470054, -0.71879529,  0.90553851,\n",
       "        -0.79056942, -1.24094854],\n",
       "       [ 1.52935317,  2.69637662,  1.15470054,  1.39121669,  0.90553851,\n",
       "         1.26491106, -1.24094854],\n",
       "       [-0.01492306,  0.01883109, -0.8660254 ,  1.39121669, -1.10431526,\n",
       "        -0.79056942,  0.76366064],\n",
       "       [-2.94092011, -0.51667802,  1.15470054,  1.39121669,  0.90553851,\n",
       "         1.26491106,  0.76366064],\n",
       "       [-0.01492306, -0.83798348,  1.15470054, -0.71879529,  0.90553851,\n",
       "        -0.79056942,  0.76366064],\n",
       "       [ 1.5936218 ,  1.0898493 , -0.8660254 , -0.71879529, -1.10431526,\n",
       "        -0.79056942,  0.76366064],\n",
       "       [ 0.14763233, -0.4095762 , -0.8660254 , -0.71879529, -1.10431526,\n",
       "        -0.79056942,  0.76366064],\n",
       "       [-0.17747845,  0.01883109, -0.8660254 ,  1.39121669, -1.10431526,\n",
       "        -0.79056942, -2.57735465],\n",
       "       [-0.09620075,  0.5543402 ,  1.15470054, -0.71879529,  0.90553851,\n",
       "        -0.79056942, -1.24094854],\n",
       "       [-0.69292571,  0.5543402 , -0.8660254 , -0.71879529, -1.10431526,\n",
       "         1.26491106,  0.76366064],\n",
       "       [-0.00468726,  0.5543402 ,  1.15470054, -0.71879529,  0.90553851,\n",
       "        -0.79056942, -1.46368289],\n",
       "       [-0.09620075, -0.73088166,  1.15470054, -0.71879529,  0.90553851,\n",
       "        -0.79056942,  0.76366064],\n",
       "       [-1.55716172,  1.62535841, -0.8660254 , -0.71879529,  0.90553851,\n",
       "         1.26491106, -0.35001113],\n",
       "       [ 0.14763233,  0.01883109, -0.8660254 , -0.71879529, -1.10431526,\n",
       "         1.26491106,  0.76366064],\n",
       "       [-0.01492306, -1.15928894, -0.8660254 , -0.71879529, -1.10431526,\n",
       "         1.26491106, -2.57735465],\n",
       "       [ 2.34213013, -1.15928894,  1.15470054,  1.39121669, -1.10431526,\n",
       "         1.26491106,  0.76366064],\n",
       "       [ 0.06635464, -0.4095762 ,  1.15470054, -0.71879529, -1.10431526,\n",
       "        -0.79056942, -1.01821418],\n",
       "       [-0.01492306,  0.01883109,  1.15470054, -0.71879529, -1.10431526,\n",
       "         1.26491106,  0.76366064],\n",
       "       [ 0.63529851,  2.16086751, -0.8660254 , -0.71879529, -1.10431526,\n",
       "        -0.79056942,  0.76366064],\n",
       "       [-0.09620075, -0.9450853 , -0.8660254 , -0.71879529,  0.90553851,\n",
       "        -0.79056942,  0.76366064],\n",
       "       [ 0.14763233, -0.30247437,  1.15470054,  1.39121669,  0.90553851,\n",
       "         1.26491106,  0.76366064],\n",
       "       [-0.09620075,  0.01883109,  1.15470054, -0.71879529, -1.10431526,\n",
       "        -0.79056942, -1.24094854],\n",
       "       [-0.09620075, -0.83798348, -0.8660254 , -0.71879529, -1.10431526,\n",
       "        -0.79056942, -1.46368289],\n",
       "       [-2.34244077, -0.51667802, -0.8660254 , -0.71879529, -1.10431526,\n",
       "        -0.79056942,  0.31819193],\n",
       "       [-0.9363061 ,  2.5892748 , -0.8660254 , -0.71879529,  0.90553851,\n",
       "         1.26491106, -0.12727677],\n",
       "       [ 0.76479418,  0.87564566, -0.8660254 ,  1.39121669,  0.90553851,\n",
       "         1.26491106,  0.76366064],\n",
       "       [ 1.61063086,  1.0898493 , -0.8660254 ,  1.39121669, -1.10431526,\n",
       "        -0.79056942,  0.76366064],\n",
       "       [ 1.93574165, -0.19537255,  1.15470054,  1.39121669,  0.90553851,\n",
       "         1.26491106, -0.79547983],\n",
       "       [ 0.06635464,  0.01883109,  1.15470054,  1.39121669,  0.90553851,\n",
       "        -0.79056942, -1.46368289],\n",
       "       [ 1.24006562,  0.87564566, -0.8660254 , -0.71879529,  0.90553851,\n",
       "        -0.79056942,  0.76366064],\n",
       "       [ 0.0845764 ,  0.87564566, -0.8660254 , -0.71879529, -1.10431526,\n",
       "        -0.79056942,  0.76366064],\n",
       "       [-0.09620075, -0.51667802, -0.8660254 ,  1.39121669, -1.10431526,\n",
       "         1.26491106, -0.35001113],\n",
       "       [-1.55919928, -0.73088166,  1.15470054, -0.71879529,  0.90553851,\n",
       "        -0.79056942,  0.76366064],\n",
       "       [-0.01492306, -0.73088166, -0.8660254 ,  1.39121669,  0.90553851,\n",
       "         1.26491106,  0.76366064],\n",
       "       [-0.01492306, -0.9450853 , -0.8660254 ,  1.39121669, -1.10431526,\n",
       "         1.26491106,  0.31819193],\n",
       "       [-2.1233016 , -0.73088166, -0.8660254 , -0.71879529, -1.10431526,\n",
       "        -0.79056942,  0.76366064],\n",
       "       [ 1.3780586 ,  0.98274748, -0.8660254 , -0.71879529,  0.90553851,\n",
       "        -0.79056942,  0.76366064],\n",
       "       [ 0.06635464,  0.01883109,  1.15470054,  1.39121669, -1.10431526,\n",
       "        -0.79056942, -1.01821418],\n",
       "       [-0.01492306, -0.83798348, -0.8660254 , -0.71879529, -1.10431526,\n",
       "        -0.79056942,  0.76366064],\n",
       "       [-0.09620075, -0.73088166,  1.15470054,  1.39121669,  0.90553851,\n",
       "         1.26491106,  0.76366064],\n",
       "       [-0.09620075, -0.83798348, -0.8660254 ,  1.39121669,  0.90553851,\n",
       "         1.26491106, -1.46368289],\n",
       "       [ 0.40045797, -0.73088166, -0.8660254 , -0.71879529,  0.90553851,\n",
       "         1.26491106, -1.24094854],\n",
       "       [ 0.06635464,  0.5543402 ,  1.15470054,  1.39121669,  0.90553851,\n",
       "        -0.79056942, -1.46368289],\n",
       "       [-0.01492306, -0.73088166, -0.8660254 , -0.71879529,  0.90553851,\n",
       "        -0.79056942,  0.76366064],\n",
       "       [ 0.14763233,  0.5543402 , -0.8660254 , -0.71879529,  0.90553851,\n",
       "        -0.79056942,  0.76366064],\n",
       "       [-0.09620075, -1.05218712,  1.15470054, -0.71879529,  0.90553851,\n",
       "        -0.79056942, -1.24094854],\n",
       "       [ 1.01939939,  0.87564566, -0.8660254 , -0.71879529, -1.10431526,\n",
       "        -0.79056942,  0.76366064],\n",
       "       [ 0.14763233, -1.05218712,  1.15470054, -0.71879529,  0.90553851,\n",
       "        -0.79056942, -1.24094854],\n",
       "       [ 0.14763233,  0.01883109, -0.8660254 ,  1.39121669, -1.10431526,\n",
       "        -0.79056942, -2.57735465],\n",
       "       [ 0.14763233,  1.0898493 , -0.8660254 , -0.71879529, -1.10431526,\n",
       "         1.26491106,  0.76366064],\n",
       "       [-0.01492306, -0.73088166,  1.15470054, -0.71879529,  0.90553851,\n",
       "        -0.79056942,  0.76366064],\n",
       "       [-1.62385492, -0.73088166, -0.8660254 ,  1.39121669, -1.10431526,\n",
       "         1.26491106,  0.54092629],\n",
       "       [-0.01492306, -1.05218712, -0.8660254 ,  1.39121669,  0.90553851,\n",
       "         1.26491106,  0.76366064],\n",
       "       [ 0.14763233, -0.51667802,  1.15470054, -0.71879529,  0.90553851,\n",
       "        -0.79056942, -1.46368289],\n",
       "       [-0.90897771,  0.01883109,  1.15470054, -0.71879529,  0.90553851,\n",
       "         1.26491106, -0.35001113],\n",
       "       [ 0.14763233, -1.15928894, -0.8660254 , -0.71879529, -1.10431526,\n",
       "         1.26491106, -2.57735465],\n",
       "       [-0.01492306, -0.51667802,  1.15470054,  1.39121669,  0.90553851,\n",
       "         1.26491106,  0.76366064],\n",
       "       [-0.01492306, -1.05218712,  1.15470054, -0.71879529,  0.90553851,\n",
       "        -0.79056942,  0.54092629],\n",
       "       [-0.09620075, -0.9450853 , -0.8660254 , -0.71879529, -1.10431526,\n",
       "        -0.79056942, -1.01821418],\n",
       "       [-1.72175467,  1.62535841, -0.8660254 ,  1.39121669,  0.90553851,\n",
       "         1.26491106, -0.35001113],\n",
       "       [ 0.14763233,  0.01883109, -0.8660254 , -0.71879529,  0.90553851,\n",
       "        -0.79056942,  0.76366064],\n",
       "       [ 0.06383412,  1.0898493 , -0.8660254 , -0.71879529, -1.10431526,\n",
       "        -0.79056942, -0.12727677],\n",
       "       [ 0.14763233, -0.73088166, -0.8660254 , -0.71879529, -1.10431526,\n",
       "        -0.79056942,  0.76366064],\n",
       "       [ 1.20424238,  2.26796933,  1.15470054, -0.71879529,  0.90553851,\n",
       "         1.26491106,  0.76366064],\n",
       "       [-2.50262051, -0.62377984, -0.8660254 , -0.71879529, -1.10431526,\n",
       "        -0.79056942,  0.76366064],\n",
       "       [ 0.14763233, -0.51667802,  1.15470054,  1.39121669,  0.90553851,\n",
       "         1.26491106,  0.76366064],\n",
       "       [ 1.24488312,  3.33898754, -0.8660254 , -0.71879529, -1.10431526,\n",
       "        -0.79056942, -0.79547983],\n",
       "       [-0.01492306, -0.51667802, -0.8660254 , -0.71879529, -1.10431526,\n",
       "        -0.79056942,  0.76366064],\n",
       "       [-0.12141311, -0.9450853 ,  1.15470054, -0.71879529, -1.10431526,\n",
       "        -0.79056942,  0.76366064],\n",
       "       [ 0.14763233,  0.01883109, -0.8660254 ,  1.39121669,  0.90553851,\n",
       "         1.26491106,  0.76366064],\n",
       "       [ 0.14763233, -0.4095762 , -0.8660254 , -0.71879529,  0.90553851,\n",
       "        -0.79056942,  0.76366064],\n",
       "       [-0.95635514, -0.51667802, -0.8660254 , -0.71879529, -1.10431526,\n",
       "        -0.79056942, -0.12727677],\n",
       "       [ 1.36181185,  0.98274748, -0.8660254 ,  1.39121669, -1.10431526,\n",
       "        -0.79056942,  0.76366064],\n",
       "       [-0.01492306,  0.01883109,  1.15470054,  1.39121669,  0.90553851,\n",
       "         1.26491106, -1.46368289],\n",
       "       [-2.15550308, -0.73088166,  1.15470054, -0.71879529,  0.90553851,\n",
       "        -0.79056942,  0.76366064],\n",
       "       [-0.09620075, -0.51667802,  1.15470054, -0.71879529, -1.10431526,\n",
       "        -0.79056942, -0.35001113],\n",
       "       [-0.09620075, -0.9450853 , -0.8660254 ,  1.39121669,  0.90553851,\n",
       "        -0.79056942,  0.31819193],\n",
       "       [ 0.14763233, -0.19537255,  1.15470054, -0.71879529,  0.90553851,\n",
       "        -0.79056942, -0.35001113],\n",
       "       [-0.09620075, -0.83798348, -0.8660254 , -0.71879529, -1.10431526,\n",
       "        -0.79056942,  0.76366064]])"
      ]
     },
     "execution_count": 107,
     "metadata": {},
     "output_type": "execute_result"
    }
   ],
   "source": [
    "# Scaling untuk X_train dan X_test\n",
    "sc = StandardScaler()\n",
    "x_train = sc.fit_transform(x_train)\n",
    "x_test = sc.fit_transform(x_test)\n",
    "\n",
    "x_train"
   ]
  },
  {
   "cell_type": "code",
   "execution_count": null,
   "metadata": {},
   "outputs": [],
   "source": [
    "# logistic regression\n",
    "from sklearn.linear_model import LogisticRegression\n",
    "lgr = LogisticRegression()\n",
    "lgr.fit(x_train, y_train)\n",
    "y_pred = lgr.predict(x_test)\n"
   ]
  },
  {
   "cell_type": "code",
   "execution_count": 208,
   "metadata": {},
   "outputs": [
    {
     "data": {
      "image/png": "[encoded data removed]",
      "text/plain": [
       "<Figure size 432x288 with 1 Axes>"
      ]
     },
     "metadata": {
      "needs_background": "light"
     },
     "output_type": "display_data"
    }
   ],
   "source": [
    "classifier = tree.DecisionTreeClassifier()\n",
    "classifier = classifier.fit(x_train, y_train)\n",
    "tree.plot_tree(classifier)\n",
    "\n",
    "y_pred = classifier.predict(x_test)"
   ]
  },
  {
   "cell_type": "code",
   "execution_count": 209,
   "metadata": {},
   "outputs": [
    {
     "data": {
      "image/png": "[encoded data removed]",
      "text/plain": [
       "<Figure size 1800x1440 with 1 Axes>"
      ]
     },
     "metadata": {
      "needs_background": "light"
     },
     "output_type": "display_data"
    }
   ],
   "source": [
    "feature_names = ['pH', 'Temperature', 'Taste', 'Odor', 'Fat', 'Turbidity', 'Colour']\n",
    "label_names = ['high', 'low', 'medium']\n",
    "fig = plt.figure(figsize=(25,20))\n",
    "_ = tree.plot_tree(classifier, \n",
    "                   feature_names=feature_names,  \n",
    "                   class_names=label_names,\n",
    "                   filled=True)"
   ]
  },
  {
   "cell_type": "code",
   "execution_count": null,
   "metadata": {},
   "outputs": [
    {
     "name": "stdout",
     "output_type": "stream",
     "text": [
      "[[ 9  1]\n",
      " [ 2 11]]\n",
      "0.8695652173913043\n",
      "              precision    recall  f1-score   support\n",
      "\n",
      "           0       0.82      0.90      0.86        10\n",
      "           1       0.92      0.85      0.88        13\n",
      "\n",
      "    accuracy                           0.87        23\n",
      "   macro avg       0.87      0.87      0.87        23\n",
      "weighted avg       0.87      0.87      0.87        23\n",
      "\n"
     ]
    }
   ],
   "source": [
    "#logistic regression performance checking\n",
    "from sklearn.metrics import confusion_matrix, accuracy_score, classification_report\n",
    "print(confusion_matrix(y_test,y_pred))\n",
    "print(accuracy_score(y_test,y_pred))\n",
    "print(classification_report(y_test,y_pred))\n"
   ]
  },
  {
   "cell_type": "code",
   "execution_count": 192,
   "metadata": {},
   "outputs": [
    {
     "name": "stderr",
     "output_type": "stream",
     "text": [
      "c:\\Users\\ASUS\\anaconda3\\lib\\site-packages\\sklearn\\linear_model\\_logistic.py:444: ConvergenceWarning: lbfgs failed to converge (status=1):\n",
      "STOP: TOTAL NO. of ITERATIONS REACHED LIMIT.\n",
      "\n",
      "Increase the number of iterations (max_iter) or scale the data as shown in:\n",
      "    https://scikit-learn.org/stable/modules/preprocessing.html\n",
      "Please also refer to the documentation for alternative solver options:\n",
      "    https://scikit-learn.org/stable/modules/linear_model.html#logistic-regression\n",
      "  n_iter_i = _check_optimize_result(\n",
      "c:\\Users\\ASUS\\anaconda3\\lib\\site-packages\\sklearn\\linear_model\\_logistic.py:444: ConvergenceWarning: lbfgs failed to converge (status=1):\n",
      "STOP: TOTAL NO. of ITERATIONS REACHED LIMIT.\n",
      "\n",
      "Increase the number of iterations (max_iter) or scale the data as shown in:\n",
      "    https://scikit-learn.org/stable/modules/preprocessing.html\n",
      "Please also refer to the documentation for alternative solver options:\n",
      "    https://scikit-learn.org/stable/modules/linear_model.html#logistic-regression\n",
      "  n_iter_i = _check_optimize_result(\n",
      "c:\\Users\\ASUS\\anaconda3\\lib\\site-packages\\sklearn\\linear_model\\_logistic.py:444: ConvergenceWarning: lbfgs failed to converge (status=1):\n",
      "STOP: TOTAL NO. of ITERATIONS REACHED LIMIT.\n",
      "\n",
      "Increase the number of iterations (max_iter) or scale the data as shown in:\n",
      "    https://scikit-learn.org/stable/modules/preprocessing.html\n",
      "Please also refer to the documentation for alternative solver options:\n",
      "    https://scikit-learn.org/stable/modules/linear_model.html#logistic-regression\n",
      "  n_iter_i = _check_optimize_result(\n",
      "c:\\Users\\ASUS\\anaconda3\\lib\\site-packages\\sklearn\\linear_model\\_logistic.py:444: ConvergenceWarning: lbfgs failed to converge (status=1):\n",
      "STOP: TOTAL NO. of ITERATIONS REACHED LIMIT.\n",
      "\n",
      "Increase the number of iterations (max_iter) or scale the data as shown in:\n",
      "    https://scikit-learn.org/stable/modules/preprocessing.html\n",
      "Please also refer to the documentation for alternative solver options:\n",
      "    https://scikit-learn.org/stable/modules/linear_model.html#logistic-regression\n",
      "  n_iter_i = _check_optimize_result(\n"
     ]
    },
    {
     "name": "stdout",
     "output_type": "stream",
     "text": [
      "[0.82608696 0.86956522 0.7826087  0.7826087  0.77272727]\n",
      "0.8067193675889328\n"
     ]
    },
    {
     "name": "stderr",
     "output_type": "stream",
     "text": [
      "c:\\Users\\ASUS\\anaconda3\\lib\\site-packages\\sklearn\\linear_model\\_logistic.py:444: ConvergenceWarning: lbfgs failed to converge (status=1):\n",
      "STOP: TOTAL NO. of ITERATIONS REACHED LIMIT.\n",
      "\n",
      "Increase the number of iterations (max_iter) or scale the data as shown in:\n",
      "    https://scikit-learn.org/stable/modules/preprocessing.html\n",
      "Please also refer to the documentation for alternative solver options:\n",
      "    https://scikit-learn.org/stable/modules/linear_model.html#logistic-regression\n",
      "  n_iter_i = _check_optimize_result(\n"
     ]
    }
   ],
   "source": [
    "#cross validation\n",
    "from sklearn.model_selection import cross_val_score\n",
    "cvs = cross_val_score(lgr,x,y,cv=5)\n",
    "print(cvs)\n",
    "print(cvs.mean())\n"
   ]
  },
  {
   "cell_type": "code",
   "execution_count": null,
   "metadata": {},
   "outputs": [
    {
     "name": "stdout",
     "output_type": "stream",
     "text": [
      "[False  True False False False False  True False]\n",
      "Index(['pH', 'Temprature', 'Taste', 'Odor', 'Fat ', 'Turbidity', 'Colour',\n",
      "       'Grade'],\n",
      "      dtype='object')\n"
     ]
    }
   ],
   "source": [
    "# feature analysis\n",
    "from sklearn.feature_selection import VarianceThreshold\n",
    "variance = VarianceThreshold(threshold=1)\n",
    "variance.fit_transform(new_data)\n",
    "print(variance.get_support())\n",
    "print(new_data.columns)\n",
    "\n"
   ]
  },
  {
   "cell_type": "code",
   "execution_count": null,
   "metadata": {},
   "outputs": [
    {
     "name": "stdout",
     "output_type": "stream",
     "text": [
      "['Temprature' 'Taste' 'Odor' 'Fat ' 'Turbidity']\n"
     ]
    },
    {
     "data": {
      "text/html": [
       "<div>\n",
       "<style scoped>\n",
       "    .dataframe tbody tr th:only-of-type {\n",
       "        vertical-align: middle;\n",
       "    }\n",
       "\n",
       "    .dataframe tbody tr th {\n",
       "        vertical-align: top;\n",
       "    }\n",
       "\n",
       "    .dataframe thead th {\n",
       "        text-align: right;\n",
       "    }\n",
       "</style>\n",
       "<table border=\"1\" class=\"dataframe\">\n",
       "  <thead>\n",
       "    <tr style=\"text-align: right;\">\n",
       "      <th></th>\n",
       "      <th>features</th>\n",
       "      <th>scores</th>\n",
       "    </tr>\n",
       "  </thead>\n",
       "  <tbody>\n",
       "    <tr>\n",
       "      <th>1</th>\n",
       "      <td>Temprature</td>\n",
       "      <td>68.030373</td>\n",
       "    </tr>\n",
       "    <tr>\n",
       "      <th>2</th>\n",
       "      <td>Taste</td>\n",
       "      <td>2.173913</td>\n",
       "    </tr>\n",
       "    <tr>\n",
       "      <th>3</th>\n",
       "      <td>Odor</td>\n",
       "      <td>1.000000</td>\n",
       "    </tr>\n",
       "    <tr>\n",
       "      <th>4</th>\n",
       "      <td>Fat</td>\n",
       "      <td>0.830508</td>\n",
       "    </tr>\n",
       "    <tr>\n",
       "      <th>5</th>\n",
       "      <td>Turbidity</td>\n",
       "      <td>0.555556</td>\n",
       "    </tr>\n",
       "    <tr>\n",
       "      <th>6</th>\n",
       "      <td>Colour</td>\n",
       "      <td>0.147218</td>\n",
       "    </tr>\n",
       "    <tr>\n",
       "      <th>0</th>\n",
       "      <td>pH</td>\n",
       "      <td>0.038309</td>\n",
       "    </tr>\n",
       "  </tbody>\n",
       "</table>\n",
       "</div>"
      ],
      "text/plain": [
       "     features     scores\n",
       "1  Temprature  68.030373\n",
       "2       Taste   2.173913\n",
       "3        Odor   1.000000\n",
       "4        Fat    0.830508\n",
       "5   Turbidity   0.555556\n",
       "6      Colour   0.147218\n",
       "0          pH   0.038309"
      ]
     },
     "execution_count": 112,
     "metadata": {},
     "output_type": "execute_result"
    }
   ],
   "source": [
    "# feature selection using Chi-squared method\n",
    "from sklearn.feature_selection import chi2, SelectKBest,SelectPercentile, f_classif\n",
    "chi_best_col = SelectKBest(chi2,k=5)\n",
    "kbest = chi_best_col.fit_transform(x,y)\n",
    "print(np.array(new_data.drop(columns='Grade').columns)[chi_best_col.get_support()])\n",
    "pd.DataFrame(list(zip(new_data.drop(columns='Grade').columns,chi_best_col.scores_)),columns=['features','scores']).sort_values(by='scores',ascending=False)\n"
   ]
  },
  {
   "cell_type": "markdown",
   "metadata": {},
   "source": [
    "Temprature', 'Odor', 'Fat ', 'Turbidity', and 'Taste' have more impact to the grade"
   ]
  },
  {
   "cell_type": "code",
   "execution_count": null,
   "metadata": {},
   "outputs": [
    {
     "name": "stdout",
     "output_type": "stream",
     "text": [
      "['Temprature' 'Taste' 'Odor' 'Fat ' 'Colour']\n"
     ]
    },
    {
     "data": {
      "text/html": [
       "<div>\n",
       "<style scoped>\n",
       "    .dataframe tbody tr th:only-of-type {\n",
       "        vertical-align: middle;\n",
       "    }\n",
       "\n",
       "    .dataframe tbody tr th {\n",
       "        vertical-align: top;\n",
       "    }\n",
       "\n",
       "    .dataframe thead th {\n",
       "        text-align: right;\n",
       "    }\n",
       "</style>\n",
       "<table border=\"1\" class=\"dataframe\">\n",
       "  <thead>\n",
       "    <tr style=\"text-align: right;\">\n",
       "      <th></th>\n",
       "      <th>features</th>\n",
       "      <th>scores</th>\n",
       "    </tr>\n",
       "  </thead>\n",
       "  <tbody>\n",
       "    <tr>\n",
       "      <th>1</th>\n",
       "      <td>Temprature</td>\n",
       "      <td>42.678069</td>\n",
       "    </tr>\n",
       "    <tr>\n",
       "      <th>2</th>\n",
       "      <td>Taste</td>\n",
       "      <td>3.698811</td>\n",
       "    </tr>\n",
       "    <tr>\n",
       "      <th>6</th>\n",
       "      <td>Colour</td>\n",
       "      <td>2.050260</td>\n",
       "    </tr>\n",
       "    <tr>\n",
       "      <th>4</th>\n",
       "      <td>Fat</td>\n",
       "      <td>1.717146</td>\n",
       "    </tr>\n",
       "    <tr>\n",
       "      <th>3</th>\n",
       "      <td>Odor</td>\n",
       "      <td>1.454545</td>\n",
       "    </tr>\n",
       "    <tr>\n",
       "      <th>5</th>\n",
       "      <td>Turbidity</td>\n",
       "      <td>0.909091</td>\n",
       "    </tr>\n",
       "    <tr>\n",
       "      <th>0</th>\n",
       "      <td>pH</td>\n",
       "      <td>0.194461</td>\n",
       "    </tr>\n",
       "  </tbody>\n",
       "</table>\n",
       "</div>"
      ],
      "text/plain": [
       "     features     scores\n",
       "1  Temprature  42.678069\n",
       "2       Taste   3.698811\n",
       "6      Colour   2.050260\n",
       "4        Fat    1.717146\n",
       "3        Odor   1.454545\n",
       "5   Turbidity   0.909091\n",
       "0          pH   0.194461"
      ]
     },
     "execution_count": 113,
     "metadata": {},
     "output_type": "execute_result"
    }
   ],
   "source": [
    "# feature selection using anova\n",
    "f_best_col = SelectKBest(f_classif,k=5)\n",
    "kbest1 = f_best_col.fit_transform(x,y)\n",
    "print(np.array(df.drop(columns='Grade').columns)[f_best_col.get_support()])\n",
    "pd.DataFrame(list(zip(df.drop(columns='Grade'),f_best_col.scores_)),columns=['features','scores']).sort_values(by='scores',ascending=False)"
   ]
  },
  {
   "cell_type": "markdown",
   "metadata": {},
   "source": [
    "Temprature', 'Odor', 'Fat ', 'Taste', and 'Colour' have more impact to the grade"
   ]
  },
  {
   "cell_type": "code",
   "execution_count": null,
   "metadata": {},
   "outputs": [
    {
     "name": "stdout",
     "output_type": "stream",
     "text": [
      "              precision    recall  f1-score   support\n",
      "\n",
      "           0       0.80      0.80      0.80        10\n",
      "           1       0.71      0.71      0.71         7\n",
      "\n",
      "    accuracy                           0.76        17\n",
      "   macro avg       0.76      0.76      0.76        17\n",
      "weighted avg       0.76      0.76      0.76        17\n",
      "\n"
     ]
    }
   ],
   "source": [
    "# logistic tree using 5 features with highest impact\n",
    "x1 = new_data[['Temprature', 'Odor', 'Fat ', 'Taste', 'Colour']]\n",
    "y1 = new_data['Grade']\n",
    "x1_train, x1_test, y1_train, y1_test = train_test_split(x1,y1,test_size=0.20,random_state=0)\n",
    "from sklearn.tree import DecisionTreeClassifier\n",
    "dtc = DecisionTreeClassifier()\n",
    "dtc.fit(x1_train,y1_train)\n",
    "y1_pred = dtc.predict(x1_test)\n",
    "from sklearn.metrics import classification_report\n",
    "print(classification_report(y1_test,y1_pred))"
   ]
  },
  {
   "cell_type": "code",
   "execution_count": null,
   "metadata": {},
   "outputs": [
    {
     "name": "stdout",
     "output_type": "stream",
     "text": [
      "[0.88235294 0.88235294 0.82352941 0.8125     0.75      ]\n",
      "0.8301470588235293\n"
     ]
    }
   ],
   "source": [
    "#cross validation\n",
    "cvs = cross_val_score(dtc,x1,y1,cv=5)\n",
    "print(cvs)\n",
    "print(cvs.mean())\n"
   ]
  },
  {
   "cell_type": "code",
   "execution_count": null,
   "metadata": {},
   "outputs": [
    {
     "name": "stdout",
     "output_type": "stream",
     "text": [
      "GridSearchCV(cv=5, estimator=DecisionTreeClassifier(),\n",
      "             param_grid={'criterion': ['gini', 'entropy'],\n",
      "                         'max_depth': range(1, 10)})\n",
      "{'criterion': 'gini', 'max_depth': 9}\n",
      "0.956140350877193\n"
     ]
    }
   ],
   "source": [
    "#maximize accuracy using hyperparameter\n",
    "param_dict = {\n",
    "    \"criterion\":['gini','entropy'],\n",
    "    \"max_depth\":range(1,10)\n",
    "}\n",
    "from sklearn.model_selection import GridSearchCV\n",
    "grid = GridSearchCV(dtc,param_grid=param_dict,cv=5)\n",
    "print(grid.fit(x_train,y_train))\n",
    "print(grid.best_params_)\n",
    "print(grid.best_score_)"
   ]
  },
  {
   "cell_type": "code",
   "execution_count": 204,
   "metadata": {},
   "outputs": [
    {
     "name": "stdout",
     "output_type": "stream",
     "text": [
      "              precision    recall  f1-score   support\n",
      "\n",
      "           0       0.67      0.80      0.73        10\n",
      "           1       0.82      0.69      0.75        13\n",
      "\n",
      "    accuracy                           0.74        23\n",
      "   macro avg       0.74      0.75      0.74        23\n",
      "weighted avg       0.75      0.74      0.74        23\n",
      "\n",
      "0.7391304347826086\n",
      "{'mae': 0.0, 'mse': 0.0, 'mape': 0.0, 'acc': 0.7391304347826086, 'r2': -0.045454545454545636}\n"
     ]
    }
   ],
   "source": [
    "# apply hyperparameter in model\n",
    "dtcp = DecisionTreeClassifier(criterion='gini',max_depth=9)\n",
    "dtcp.fit(x_train,y_train)\n",
    "y1p_pred = dtcp.predict(x_test)\n",
    "print(classification_report(y_test,y1p_pred))\n",
    "\n",
    "\n",
    "dtc_pred_train = dtcp.predict(x_train)\n",
    "print(accuracy_score(y_test,y1p_pred))\n",
    "dtcpm = performance_metrics(dtcp,y1p_pred,dtc_pred_train,y_test,y_train)\n",
    "print(dtcpm)"
   ]
  },
  {
   "cell_type": "code",
   "execution_count": null,
   "metadata": {},
   "outputs": [
    {
     "data": {
      "text/plain": [
       "0.7391304347826086"
      ]
     },
     "execution_count": 123,
     "metadata": {},
     "output_type": "execute_result"
    }
   ],
   "source": [
    "dtcp.score(x_test,y_test)"
   ]
  },
  {
   "cell_type": "code",
   "execution_count": 193,
   "metadata": {},
   "outputs": [
    {
     "data": {
      "text/plain": [
       "array([[10,  0],\n",
       "       [ 5,  8]], dtype=int64)"
      ]
     },
     "execution_count": 193,
     "metadata": {},
     "output_type": "execute_result"
    }
   ],
   "source": [
    "from sklearn.metrics import confusion_matrix\n",
    "cm = confusion_matrix(y_test,yr_pred)\n",
    "cm"
   ]
  },
  {
   "cell_type": "code",
   "execution_count": null,
   "metadata": {},
   "outputs": [
    {
     "name": "stdout",
     "output_type": "stream",
     "text": [
      "Collecting xgboost\n",
      "  Downloading xgboost-1.7.1-py3-none-win_amd64.whl (89.1 MB)\n",
      "Requirement already satisfied: numpy in c:\\users\\asus\\anaconda3\\lib\\site-packages (from xgboost) (1.21.5)\n",
      "Requirement already satisfied: scipy in c:\\users\\asus\\anaconda3\\lib\\site-packages (from xgboost) (1.7.3)\n",
      "Installing collected packages: xgboost\n",
      "Successfully installed xgboost-1.7.1\n"
     ]
    }
   ],
   "source": [
    "!pip install xgboost\n",
    "from sklearn.metrics import roc_auc_score, precision_score, recall_score, f1_score\n",
    "from sklearn.metrics import classification_report, confusion_matrix, roc_curve, auc\n",
    "from sklearn.metrics import mean_absolute_error, mean_squared_error, mean_absolute_percentage_error, r2_score , accuracy_score\n",
    "from xgboost import XGBClassifier\n",
    "from sklearn.ensemble import AdaBoostClassifier"
   ]
  },
  {
   "cell_type": "code",
   "execution_count": null,
   "metadata": {},
   "outputs": [],
   "source": [
    "#Helper Function: Performance Metrics\n",
    "#model: classifier obj\n",
    "#pred_test = model.predict(x_test)\n",
    "#pred_train = model.predict(x_train)\n",
    "#ytest = y_test\n",
    "#ytrain = y_train\n",
    "def performance_metrics(model,pred_test,pred_train,ytest,ytrain):\n",
    "    \n",
    "    mae = mean_absolute_error(pred_train, ytrain)\n",
    "    mse = mean_squared_error(pred_train, ytrain)\n",
    "    mape= mean_absolute_percentage_error(pred_train, ytrain)\n",
    "    acc = accuracy_score(ytest,pred_test)\n",
    "    r2  = r2_score(pred_test, ytest)\n",
    "    \n",
    "    return({\n",
    "        \"mae\": mae,\n",
    "        \"mse\": mse,\n",
    "        \"mape\": mape,\n",
    "        \"acc\": acc,\n",
    "        \"r2\": r2 \n",
    "    })"
   ]
  },
  {
   "cell_type": "code",
   "execution_count": 196,
   "metadata": {},
   "outputs": [
    {
     "name": "stdout",
     "output_type": "stream",
     "text": [
      "Accuracy: 78.26%\n",
      "{'mae': 0.0, 'mse': 0.0, 'mape': 0.0, 'acc': 0.782608695652174, 'r2': 0.11538461538461531}\n",
      "[0.95652174 0.91304348 0.95652174 0.95652174 0.90909091]\n",
      "0.9383399209486166\n"
     ]
    }
   ],
   "source": [
    "#xgbboost model\n",
    "xgb = XGBClassifier(max_depth=3)\n",
    "xgb.fit(x_train,y_train)\n",
    "\n",
    "xgb_pred_test = xgb.predict(x_test)\n",
    "xgb_pred_train = xgb.predict(x_train)\n",
    "\n",
    "rf_cm = accuracy_score(y_test,xgb_pred_test)\n",
    "print(f\"Accuracy: {round(rf_cm * 100,2)}%\")\n",
    "xgbpm = performance_metrics(xgb,xgb_pred_test,xgb_pred_train,y_test,y_train)\n",
    "print(xgbpm)\n",
    "cvrxgb = cross_val_score(xgb,x,y,cv=5)\n",
    "print(cvrxgb)\n",
    "print(cvrxgb.mean())"
   ]
  },
  {
   "cell_type": "code",
   "execution_count": 182,
   "metadata": {},
   "outputs": [
    {
     "name": "stdout",
     "output_type": "stream",
     "text": [
      "0.8260869565217391\n",
      "Accuracy: 78.26%\n",
      "{'mae': 0.0, 'mse': 0.0, 'mape': 0.0, 'acc': 0.8260869565217391, 'r2': 0.2698412698412699}\n",
      "[0.95652174 0.95652174 0.95652174 0.95652174 0.90909091]\n",
      "0.9470355731225297\n"
     ]
    }
   ],
   "source": [
    "#random forest model \n",
    "rfc = RandomForestClassifier(max_depth=7)\n",
    "rfc.fit(x_train,y_train)\n",
    "rfc_pred_test = rfc.predict(x_test)\n",
    "rfc_pred_train = rfc.predict(x_train)\n",
    "\n",
    "print(accuracy_score(y_test,rfc_pred_test))\n",
    "print(f\"Accuracy: {round(rf_cm * 100,2)}%\")\n",
    "rfcpm = performance_metrics(rfc,rfc_pred_test,rfc_pred_train,y_test,y_train)\n",
    "print(rfcpm)\n",
    "cvsr = cross_val_score(rfc,x,y,cv=5)\n",
    "print(cvsr)\n",
    "print(cvsr.mean())"
   ]
  },
  {
   "cell_type": "code",
   "execution_count": 185,
   "metadata": {},
   "outputs": [
    {
     "name": "stdout",
     "output_type": "stream",
     "text": [
      "0.7391304347826086\n",
      "{'mae': 0.0, 'mse': 0.0, 'mape': 0.0, 'acc': 0.7391304347826086, 'r2': -0.045454545454545636}\n",
      "[0.95652174 0.86956522 0.95652174 0.95652174 0.95454545]\n",
      "0.9387351778656126\n"
     ]
    }
   ],
   "source": [
    "#adaboost model\n",
    "ada = AdaBoostClassifier(random_state=42)\n",
    "ada.fit(x_train,y_train)\n",
    "ada_pred_test = ada.predict(x_test)\n",
    "ada_pred_train = ada.predict(x_train)\n",
    "print(accuracy_score(y_test,ada_pred_test))\n",
    "adapm = performance_metrics(ada,ada_pred_test,ada_pred_train,y_test,y_train)\n",
    "print(adapm)\n",
    "cvsrada = cross_val_score(ada,x,y,cv=5)\n",
    "print(cvsrada)\n",
    "print(cvsrada.mean())"
   ]
  },
  {
   "cell_type": "code",
   "execution_count": 187,
   "metadata": {},
   "outputs": [
    {
     "name": "stdout",
     "output_type": "stream",
     "text": [
      "0.8695652173913043\n",
      "{'mae': 0.25274725274725274, 'mse': 0.25274725274725274, 'mape': 890821904315043.1, 'acc': 0.8695652173913043, 'r2': 0.4692307692307691}\n",
      "[0.47826087 0.47826087 0.47826087 0.47826087 0.54545455]\n",
      "0.491699604743083\n"
     ]
    }
   ],
   "source": [
    "#SVM model\n",
    "svm = SVC(kernel='sigmoid')\n",
    "svm.fit(x_train,y_train)\n",
    "svm_pred_test = svm.predict(x_test)\n",
    "svm_pred_train = svm.predict(x_train)\n",
    "print(accuracy_score(y_test,svm_pred_test))\n",
    "svmpm = performance_metrics(svm,svm_pred_test,svm_pred_train,y_test,y_train)\n",
    "print(svmpm)\n",
    "cvsrsvm = cross_val_score(svm,x,y,cv=5)\n",
    "print(cvsrsvm)\n",
    "print(cvsrsvm.mean())"
   ]
  },
  {
   "cell_type": "code",
   "execution_count": 191,
   "metadata": {},
   "outputs": [
    {
     "name": "stdout",
     "output_type": "stream",
     "text": [
      "0.7391304347826086\n",
      "{'mae': 0.0989010989010989, 'mse': 0.0989010989010989, 'mape': 395920846362241.44, 'acc': 0.7391304347826086, 'r2': -0.09523809523809512}\n",
      "[0.47826087 0.47826087 0.47826087 0.47826087 0.54545455]\n",
      "0.491699604743083\n"
     ]
    }
   ],
   "source": [
    "#KNN model\n",
    "knn = KNeighborsClassifier(n_neighbors=5, metric='minkowski', p=3)\n",
    "knn.fit(x_train,y_train)\n",
    "knn_pred_test = knn.predict(x_test)\n",
    "knn_pred_train = knn.predict(x_train)\n",
    "print(accuracy_score(y_test,knn_pred_test))\n",
    "knnpm = performance_metrics(knn,knn_pred_test,knn_pred_train,y_test,y_train)\n",
    "print(knnpm)\n",
    "cvsrknn = cross_val_score(svm,x,y,cv=5)\n",
    "print(cvsrknn)\n",
    "print(cvsrknn.mean())"
   ]
  },
  {
   "cell_type": "code",
   "execution_count": 207,
   "metadata": {},
   "outputs": [
    {
     "data": {
      "text/html": [
       "<div>\n",
       "<style scoped>\n",
       "    .dataframe tbody tr th:only-of-type {\n",
       "        vertical-align: middle;\n",
       "    }\n",
       "\n",
       "    .dataframe tbody tr th {\n",
       "        vertical-align: top;\n",
       "    }\n",
       "\n",
       "    .dataframe thead th {\n",
       "        text-align: right;\n",
       "    }\n",
       "</style>\n",
       "<table border=\"1\" class=\"dataframe\">\n",
       "  <thead>\n",
       "    <tr style=\"text-align: right;\">\n",
       "      <th></th>\n",
       "      <th>mae</th>\n",
       "      <th>mse</th>\n",
       "      <th>mape</th>\n",
       "      <th>acc</th>\n",
       "      <th>r2</th>\n",
       "    </tr>\n",
       "  </thead>\n",
       "  <tbody>\n",
       "    <tr>\n",
       "      <th>Decision Tree</th>\n",
       "      <td>0.000000</td>\n",
       "      <td>0.000000</td>\n",
       "      <td>0.000000e+00</td>\n",
       "      <td>0.739130</td>\n",
       "      <td>-0.045455</td>\n",
       "    </tr>\n",
       "    <tr>\n",
       "      <th>XGBoost</th>\n",
       "      <td>0.000000</td>\n",
       "      <td>0.000000</td>\n",
       "      <td>0.000000e+00</td>\n",
       "      <td>0.782609</td>\n",
       "      <td>0.115385</td>\n",
       "    </tr>\n",
       "    <tr>\n",
       "      <th>Random Forest</th>\n",
       "      <td>0.000000</td>\n",
       "      <td>0.000000</td>\n",
       "      <td>0.000000e+00</td>\n",
       "      <td>0.826087</td>\n",
       "      <td>0.269841</td>\n",
       "    </tr>\n",
       "    <tr>\n",
       "      <th>ADABoost</th>\n",
       "      <td>0.000000</td>\n",
       "      <td>0.000000</td>\n",
       "      <td>0.000000e+00</td>\n",
       "      <td>0.739130</td>\n",
       "      <td>-0.045455</td>\n",
       "    </tr>\n",
       "    <tr>\n",
       "      <th>SVM</th>\n",
       "      <td>0.252747</td>\n",
       "      <td>0.252747</td>\n",
       "      <td>8.908219e+14</td>\n",
       "      <td>0.869565</td>\n",
       "      <td>0.469231</td>\n",
       "    </tr>\n",
       "    <tr>\n",
       "      <th>KNN</th>\n",
       "      <td>0.098901</td>\n",
       "      <td>0.098901</td>\n",
       "      <td>3.959208e+14</td>\n",
       "      <td>0.739130</td>\n",
       "      <td>-0.095238</td>\n",
       "    </tr>\n",
       "  </tbody>\n",
       "</table>\n",
       "</div>"
      ],
      "text/plain": [
       "                    mae       mse          mape       acc        r2\n",
       "Decision Tree  0.000000  0.000000  0.000000e+00  0.739130 -0.045455\n",
       "XGBoost        0.000000  0.000000  0.000000e+00  0.782609  0.115385\n",
       "Random Forest  0.000000  0.000000  0.000000e+00  0.826087  0.269841\n",
       "ADABoost       0.000000  0.000000  0.000000e+00  0.739130 -0.045455\n",
       "SVM            0.252747  0.252747  8.908219e+14  0.869565  0.469231\n",
       "KNN            0.098901  0.098901  3.959208e+14  0.739130 -0.095238"
      ]
     },
     "execution_count": 207,
     "metadata": {},
     "output_type": "execute_result"
    }
   ],
   "source": [
    "pd.DataFrame([dtcpm,xgbpm,rfcpm,adapm,svmpm,knnpm,],index=['Decision Tree','XGBoost', 'Random Forest','ADABoost','SVM', 'KNN'])"
   ]
  }
 ],
 "metadata": {
  "kernelspec": {
   "display_name": "Python 3.9.12 ('base')",
   "language": "python",
   "name": "python3"
  },
  "language_info": {
   "codemirror_mode": {
    "name": "ipython",
    "version": 3
   },
   "file_extension": ".py",
   "mimetype": "text/x-python",
   "name": "python",
   "nbconvert_exporter": "python",
   "pygments_lexer": "ipython3",
   "version": "3.9.12"
  },
  "orig_nbformat": 4,
  "vscode": {
   "interpreter": {
    "hash": "a90aeebcf29d64a654773811cc170cb25061cb2498f10ac689db374c7bf325de"
   }
  }
 },
 "nbformat": 4,
 "nbformat_minor": 2
}
